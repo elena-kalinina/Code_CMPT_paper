{
 "cells": [
  {
   "cell_type": "code",
   "execution_count": 2,
   "metadata": {
    "collapsed": false
   },
   "outputs": [
    {
     "name": "stdout",
     "output_type": "stream",
     "text": [
      "Populating the interactive namespace from numpy and matplotlib\n"
     ]
    }
   ],
   "source": [
    "%pylab inline\n",
    "\n",
    "from sklearn.linear_model import *\n",
    "from sklearn import cross_validation\n",
    "from scipy import linalg, stats\n",
    "\n",
    "plt.rcParams['figure.figsize'] = (1 * 10.0, 6.0)\n",
    "fontsize = 35\n",
    "plt.rcParams['font.size'] = 30\n"
   ]
  },
  {
   "cell_type": "code",
   "execution_count": 3,
   "metadata": {
    "collapsed": true
   },
   "outputs": [],
   "source": [
    "def test_decoding(img_1, labels_1, img_2, labels_2, n_perm=10000):\n",
    "    # load the data\n",
    "    X1 = np.load('data/' + img_1 + '.npy')\n",
    "    y1 = np.load('data/' + labels_1 + '.npy')\n",
    "    X2 = np.load('data/' + img_2 + '.npy')\n",
    "    y2 = np.load('data/' + labels_2 + '.npy')\n",
    "        \n",
    "    # number of subjects\n",
    "    n_sub = y1.shape[0]\n",
    "  #  print (n_sub)\n",
    "  #  print (y1.shape[1])\n",
    "    # initialization\n",
    "    score = 0.\n",
    "    scores_perm = []\n",
    "\n",
    "    # create permutations beforehand so they are shared\n",
    "    # across subjects\n",
    "    perms = [np.random.permutation(y1[0].size) for _ in range(n_perm)]\n",
    "    \n",
    "    #across maps\n",
    " #   perms = [np.random.permutation(y1[1].size) for _ in range(n_perm)]\n",
    "    # nested cross-validation scheme: leave one run out\n",
    "    runs = [0] * 8 + [1] * 8 + [2] * 8 + [3] * 8\n",
    "    cv = cross_validation.LeaveOneLabelOut(runs)\n",
    "\n",
    "    for i in range(n_sub):\n",
    "        clf = LogisticRegressionCV(cv=cv)\n",
    "        clf.fit(X1[i], y1[i].ravel())\n",
    "        score += clf.score(X2[i], y2[i].ravel())\n",
    "\n",
    "        # compute the permuted test statistic\n",
    "        scores_perm_sub = []\n",
    "        for pi in perms:\n",
    "            tmp = clf.score(X2[i], y2[i].ravel()[pi])\n",
    "            scores_perm_sub.append(tmp)\n",
    "        scores_perm.append(scores_perm_sub)\n",
    "\n",
    "    # add across subjects\n",
    "    scores_perm = np.array(scores_perm).sum(0)\n",
    "\n",
    "    pval = 1 - (score >= scores_perm).mean()\n",
    "    return pval\n"
   ]
  },
  {
   "cell_type": "code",
   "execution_count": 16,
   "metadata": {
    "collapsed": false
   },
   "outputs": [],
   "source": [
    "# test statistic\n",
    "def test_stat(A1, A2, B1, B2):\n",
    "    tmp = np.corrcoef(A1, B1)[0, 1] + \\\n",
    "           np.corrcoef(A2, B2)[0, 1] - \\\n",
    "           np.corrcoef(A1, B2)[0, 1] - \\\n",
    "           np.corrcoef(A2, B1)[0, 1]\n",
    "    return tmp * tmp\n",
    "\n",
    "def test_permutation(img_1, labels_1, img_2, labels_2, n_perm=10000):\n",
    "    # load the data\n",
    "    X1 = np.load('data/' + img_1 + '.npy', encoding='latin1')\n",
    "    y1 = np.load('data/' + labels_1 + '.npy', encoding='latin1')\n",
    "    X2 = np.load('data/' + img_2 + '.npy', encoding='latin1')\n",
    "    y2 = np.load('data/' + labels_2 + '.npy', encoding='latin1')\n",
    "\n",
    "    # number of subjects\n",
    "    n_sub = y1.shape[0]\n",
    "    # number of runs\n",
    "    n_runs = 4\n",
    "\n",
    "    # compute test statistic\n",
    "    T0 = 0.0\n",
    "    for i in range(n_sub):\n",
    "        # indexes of class 1\n",
    "        idx1 = (y1[i].ravel() == 0)\n",
    "        # indexes of class 2\n",
    "        idx2 = (y2[i].ravel() == 1)\n",
    "\n",
    "        # average across runs\n",
    "        A1 = np.array(X1[i])[idx1].mean(0)\n",
    "        A2 = np.array(X1[i])[idx2].mean(0)\n",
    "        B1 = np.array(X2[i])[idx1].mean(0)\n",
    "        B2 = np.array(X2[i])[idx2].mean(0)\n",
    "        T0 += test_stat(A1, A2, B1, B2)\n",
    "\n",
    "\n",
    "    # compute the permuted statistic\n",
    "    T_perm = []\n",
    "    for perm_count in range(n_perm):\n",
    "        T_subj = 0.0\n",
    "        \n",
    "        # permute the non-averaged betas\n",
    "        # this way we can form more permutations\n",
    "        perm = np.random.permutation(8 * 4)\n",
    "    #    perm2 = np.random.permutation(40 * 4)\n",
    "        for i in range(n_sub):\n",
    "            # indexes of class 1\n",
    "            idx1 = (y1[i].ravel() == 0)[perm]\n",
    "            # indexes of class 2\n",
    "            idx2 = (y2[i].ravel() == 1)[perm]\n",
    "            \n",
    "           \n",
    "            # average across runs\n",
    "            A1 = np.array(X1[i])[idx1].mean(0)\n",
    "            A2 = np.array(X1[i])[idx2].mean(0)\n",
    "            B1 = np.array(X2[i])[idx1].mean(0)\n",
    "            B2 = np.array(X2[i])[idx2].mean(0)\n",
    "            T_subj += test_stat(A1, A2, B1, B2)\n",
    "        T_perm.append(T_subj)\n",
    "\n",
    "    pval = 1 - (T0 >= np.array(T_perm)).mean()\n",
    "    return pval\n"
   ]
  },
  {
   "cell_type": "code",
   "execution_count": 18,
   "metadata": {
    "collapsed": false
   },
   "outputs": [
    {
     "name": "stdout",
     "output_type": "stream",
     "text": [
      "Perc-l+r vs Im-l+r\n",
      "9\n",
      "4\n",
      "p-value decoding:  0.0913\n",
      "p-value permutation:  0.0015\n"
     ]
    }
   ],
   "source": [
    "# compute the decoding p-value for P vs I using a t-test\n",
    "print('Perc-l+r vs Im-l+r')\n",
    "# compute score\n",
    "pval = test_decoding('Perc_l+r_OSC_betamaps', 'Perc_labels', 'Im_l+r_OSC_betamaps', 'Im_labels')\n",
    "print('p-value decoding: ', pval)\n",
    "\n",
    "pval = test_permutation('Im_l+r_OSC_betamaps', 'Im_labels', 'Perc_l+r_OSC_betamaps', 'Perc_labels')\n",
    "print('p-value permutation: ', pval)"
   ]
  },
  {
   "cell_type": "code",
   "execution_count": 6,
   "metadata": {
    "collapsed": false
   },
   "outputs": [
    {
     "name": "stdout",
     "output_type": "stream",
     "text": [
      "Perc-l+r vs Im-l+r (BOLD)\n",
      "p-value decoding:  0.6491\n",
      "p-value permutation:  0.9997\n"
     ]
    }
   ],
   "source": [
    "print('Perc-l+r vs Im-l+r (BOLD)')\n",
    "# same thing using BOLD\n",
    "pval = test_decoding('Perc_l+r_OSC_BOLD', 'Perc_labels', 'Im_l+r_OSC_BOLD', 'Im_labels')\n",
    "print('p-value decoding: ', pval)\n",
    "\n",
    "pval = test_permutation('Perc_l+r_OSC_BOLD', 'Perc_labels', 'Im_l+r_OSC_BOLD', 'Im_labels')\n",
    "print('p-value permutation: ', pval)\n"
   ]
  },
  {
   "cell_type": "code",
   "execution_count": 19,
   "metadata": {
    "collapsed": false
   },
   "outputs": [
    {
     "name": "stdout",
     "output_type": "stream",
     "text": [
      "Delay 0\n",
      "VS-l+r vs Perc-l+r (betamaps)\n",
      "9\n",
      "4\n",
      "p-value decoding:  0.5637\n",
      "p-value permutation:  0.0033\n",
      "\n",
      "Delay 1\n",
      "VS-l+r vs Perc-l+r (betamaps)\n",
      "9\n",
      "4\n",
      "p-value decoding:  0.0582\n",
      "p-value permutation:  0.0044\n",
      "\n",
      "Delay 2\n",
      "VS-l+r vs Perc-l+r (betamaps)\n",
      "9\n",
      "4\n",
      "p-value decoding:  0.1266\n",
      "p-value permutation:  0.0\n",
      "\n",
      "Delay 3\n",
      "VS-l+r vs Perc-l+r (betamaps)\n",
      "9\n",
      "4\n",
      "p-value decoding:  0.9986\n",
      "p-value permutation:  0.0\n",
      "\n",
      "Delay 4\n",
      "VS-l+r vs Perc-l+r (betamaps)\n",
      "9\n",
      "4\n",
      "p-value decoding:  0.0202\n",
      "p-value permutation:  0.0053\n",
      "\n"
     ]
    }
   ],
   "source": [
    "for delay in [0, 1, 2, 3, 4]:\n",
    "    print(\"Delay %s\"% delay)\n",
    "    print('VS-l+r vs Perc-l+r (betamaps)')\n",
    "    pval = test_decoding('VS_delay_%s_l+r_OSC_betamaps' % delay, 'VS_delay_%s_labels' % delay, \n",
    "                         'Perc_l+r_OSC_betamaps', 'Im_labels')\n",
    "    print('p-value decoding: ', pval)\n",
    "\n",
    "    pval = test_permutation('VS_delay_%s_l+r_OSC_betamaps' % delay, 'VS_delay_%s_labels' % delay, \n",
    "                         'Perc_l+r_OSC_betamaps', 'Perc_labels')\n",
    "\n",
    "    print('p-value permutation: ', pval)\n",
    "    print()\n"
   ]
  },
  {
   "cell_type": "code",
   "execution_count": 21,
   "metadata": {
    "collapsed": false
   },
   "outputs": [
    {
     "name": "stdout",
     "output_type": "stream",
     "text": [
      "Delay 0\n",
      "VS-l+r vs Im-l+r (betamaps)\n",
      "9\n",
      "4\n",
      "p-value decoding:  0.2693\n",
      "p-value permutation:  0.857\n",
      "\n",
      "Delay 1\n",
      "VS-l+r vs Im-l+r (betamaps)\n",
      "9\n",
      "4\n",
      "p-value decoding:  0.3852\n",
      "p-value permutation:  0.4746\n",
      "\n",
      "Delay 2\n",
      "VS-l+r vs Im-l+r (betamaps)\n",
      "9\n",
      "4\n",
      "p-value decoding:  0.1685\n",
      "p-value permutation:  0.1343\n",
      "\n",
      "Delay 3\n",
      "VS-l+r vs Im-l+r (betamaps)\n",
      "9\n",
      "4\n",
      "p-value decoding:  0.6482\n",
      "p-value permutation:  0.0004\n",
      "\n",
      "Delay 4\n",
      "VS-l+r vs Im-l+r (betamaps)\n",
      "9\n",
      "4\n",
      "p-value decoding:  0.2578\n",
      "p-value permutation:  0.6034\n",
      "\n"
     ]
    }
   ],
   "source": [
    "for delay in [0, 1, 2, 3, 4]:\n",
    "    print(\"Delay %s\"% delay)\n",
    "    print('VS-l+r vs Im-l+r (betamaps)')\n",
    "    pval = test_decoding('VS_delay_%s_l+r_OSC_betamaps' % delay, 'VS_delay_%s_labels' % delay, \n",
    "                         'Im_l+r_OSC_betamaps', 'Im_labels')\n",
    "    print('p-value decoding: ', pval)\n",
    "\n",
    "    pval = test_permutation('VS_delay_%s_l+r_OSC_betamaps' % delay, 'VS_delay_%s_labels' %delay, \n",
    "                         'Im_l+r_OSC_betamaps', 'Im_labels')\n",
    "\n",
    "    print('p-value permutation: ', pval)\n",
    "    print()"
   ]
  }
 ],
 "metadata": {
  "kernelspec": {
   "display_name": "Python 3",
   "language": "python",
   "name": "python3"
  },
  "language_info": {
   "codemirror_mode": {
    "name": "ipython",
    "version": 3
   },
   "file_extension": ".py",
   "mimetype": "text/x-python",
   "name": "python",
   "nbconvert_exporter": "python",
   "pygments_lexer": "ipython3",
   "version": "3.5.1"
  }
 },
 "nbformat": 4,
 "nbformat_minor": 0
}
